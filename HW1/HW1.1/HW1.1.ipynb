{
 "cells": [
  {
   "cell_type": "code",
   "execution_count": 2,
   "id": "90500001-0c4e-455f-b7fd-4b9fb968e64f",
   "metadata": {},
   "outputs": [],
   "source": [
    "!hadoop fs -copyFromLocal bigdata_hw1.txt hdfs:////user/hw1/text1_1.txt"
   ]
  },
  {
   "cell_type": "code",
   "execution_count": 3,
   "id": "f950f2a4-6290-49e8-a4c3-1e3f4e3e7502",
   "metadata": {},
   "outputs": [
    {
     "name": "stdout",
     "output_type": "stream",
     "text": [
      "-rw-r--r--   3 root supergroup       1182 2023-12-06 01:18 hdfs:///user/hw1/text1_1.txt\n"
     ]
    }
   ],
   "source": [
    "!hadoop fs -ls hdfs:////user/hw1/text1_1.txt"
   ]
  },
  {
   "cell_type": "code",
   "execution_count": 4,
   "id": "eea48135-5a04-46ff-9746-764e509dbd75",
   "metadata": {},
   "outputs": [
    {
     "name": "stdout",
     "output_type": "stream",
     "text": [
      "Уютное кафе на улицах с плетёной мебелью\n",
      "Где красное вино из местных погребов больших Шато\n",
      "Ты можешь говорить что это только глупые мечты\n",
      "Но в планах у меня всё видимо немного круче, ведь.\n",
      "\n",
      "Припев:\n",
      "Завтра в семь двадцать две, я буду в Борисполе\n",
      "Сидеть в самолёте и думать о пилоте, чтобы\n",
      "он хорошо взлетел и крайне удачно сел\n",
      "где-нибудь в Париже, а там еще немного и в Прованс\n",
      "\n",
      "Бордовый горизонт, бордовое Бордо в бокале\n",
      "Поверить не могу что это всё уже так близко, ведь.\n",
      "\n",
      "Припев:\n",
      "Завтра в семь двадцать две, я буду в Борисполе\n",
      "Сидеть в самолёте и думать о пилоте, чтобы\n",
      "он хорошо взлетел и крайне удачно сел\n",
      "где-нибудь в Париже, а там еще немного и в Прованс"
     ]
    }
   ],
   "source": [
    "!hadoop fs -cat hdfs:////user/hw1/text1_1.txt"
   ]
  },
  {
   "cell_type": "code",
   "execution_count": 5,
   "id": "fedbd911-2de4-4f67-a0e4-caa7f3ffb3a4",
   "metadata": {},
   "outputs": [
    {
     "name": "stdout",
     "output_type": "stream",
     "text": [
      "Number of Maps  = 15\n",
      "Samples per Map = 1800\n",
      "Wrote input for Map #0\n",
      "Wrote input for Map #1\n",
      "Wrote input for Map #2\n",
      "Wrote input for Map #3\n",
      "Wrote input for Map #4\n",
      "Wrote input for Map #5\n",
      "Wrote input for Map #6\n",
      "Wrote input for Map #7\n",
      "Wrote input for Map #8\n",
      "Wrote input for Map #9\n",
      "Wrote input for Map #10\n",
      "Wrote input for Map #11\n",
      "Wrote input for Map #12\n",
      "Wrote input for Map #13\n",
      "Wrote input for Map #14\n",
      "Starting Job\n",
      "2023-12-06 01:19:42 INFO  DefaultNoHARMFailoverProxyProvider:64 - Connecting to ResourceManager at resourcemanager/172.22.0.4:8032\n",
      "2023-12-06 01:19:43 INFO  JobResourceUploader:907 - Disabling Erasure Coding for path: /tmp/hadoop-yarn/staging/root/.staging/job_1701796633397_0027\n",
      "2023-12-06 01:19:43 INFO  FileInputFormat:300 - Total input files to process : 15\n",
      "2023-12-06 01:19:43 INFO  JobSubmitter:202 - number of splits:15\n",
      "2023-12-06 01:19:43 INFO  JobSubmitter:298 - Submitting tokens for job: job_1701796633397_0027\n",
      "2023-12-06 01:19:43 INFO  JobSubmitter:299 - Executing with tokens: []\n",
      "2023-12-06 01:19:43 INFO  Configuration:2854 - resource-types.xml not found\n",
      "2023-12-06 01:19:43 INFO  ResourceUtils:476 - Unable to find 'resource-types.xml'.\n",
      "2023-12-06 01:19:43 INFO  YarnClientImpl:338 - Submitted application application_1701796633397_0027\n",
      "2023-12-06 01:19:43 INFO  Job:1682 - The url to track the job: http://resourcemanager:8088/proxy/application_1701796633397_0027/\n",
      "2023-12-06 01:19:43 INFO  Job:1727 - Running job: job_1701796633397_0027\n",
      "2023-12-06 01:19:50 INFO  Job:1748 - Job job_1701796633397_0027 running in uber mode : false\n",
      "2023-12-06 01:19:50 INFO  Job:1755 -  map 0% reduce 0%\n",
      "2023-12-06 01:19:57 INFO  Job:1755 -  map 7% reduce 0%\n",
      "2023-12-06 01:19:58 INFO  Job:1755 -  map 13% reduce 0%\n",
      "2023-12-06 01:19:59 INFO  Job:1755 -  map 20% reduce 0%\n",
      "2023-12-06 01:20:01 INFO  Job:1755 -  map 27% reduce 0%\n",
      "2023-12-06 01:20:03 INFO  Job:1755 -  map 33% reduce 0%\n",
      "2023-12-06 01:20:04 INFO  Job:1755 -  map 40% reduce 0%\n",
      "2023-12-06 01:20:05 INFO  Job:1755 -  map 47% reduce 0%\n",
      "2023-12-06 01:20:09 INFO  Job:1755 -  map 60% reduce 0%\n",
      "2023-12-06 01:20:12 INFO  Job:1755 -  map 67% reduce 0%\n",
      "2023-12-06 01:20:13 INFO  Job:1755 -  map 73% reduce 0%\n",
      "2023-12-06 01:20:17 INFO  Job:1755 -  map 87% reduce 0%\n",
      "2023-12-06 01:20:19 INFO  Job:1755 -  map 87% reduce 29%\n",
      "2023-12-06 01:20:22 INFO  Job:1755 -  map 93% reduce 29%\n",
      "2023-12-06 01:20:23 INFO  Job:1755 -  map 100% reduce 100%\n",
      "2023-12-06 01:20:24 INFO  Job:1766 - Job job_1701796633397_0027 completed successfully\n",
      "2023-12-06 01:20:24 INFO  Job:1773 - Counters: 54\n",
      "\tFile System Counters\n",
      "\t\tFILE: Number of bytes read=336\n",
      "\t\tFILE: Number of bytes written=4460994\n",
      "\t\tFILE: Number of read operations=0\n",
      "\t\tFILE: Number of large read operations=0\n",
      "\t\tFILE: Number of write operations=0\n",
      "\t\tHDFS: Number of bytes read=3860\n",
      "\t\tHDFS: Number of bytes written=215\n",
      "\t\tHDFS: Number of read operations=65\n",
      "\t\tHDFS: Number of large read operations=0\n",
      "\t\tHDFS: Number of write operations=3\n",
      "\t\tHDFS: Number of bytes read erasure-coded=0\n",
      "\tJob Counters \n",
      "\t\tLaunched map tasks=15\n",
      "\t\tLaunched reduce tasks=1\n",
      "\t\tRack-local map tasks=15\n",
      "\t\tTotal time spent by all maps in occupied slots (ms)=84406\n",
      "\t\tTotal time spent by all reduces in occupied slots (ms)=37530\n",
      "\t\tTotal time spent by all map tasks (ms)=42203\n",
      "\t\tTotal time spent by all reduce tasks (ms)=18765\n",
      "\t\tTotal vcore-milliseconds taken by all map tasks=42203\n",
      "\t\tTotal vcore-milliseconds taken by all reduce tasks=18765\n",
      "\t\tTotal megabyte-milliseconds taken by all map tasks=43215872\n",
      "\t\tTotal megabyte-milliseconds taken by all reduce tasks=19215360\n",
      "\tMap-Reduce Framework\n",
      "\t\tMap input records=15\n",
      "\t\tMap output records=30\n",
      "\t\tMap output bytes=270\n",
      "\t\tMap output materialized bytes=420\n",
      "\t\tInput split bytes=2090\n",
      "\t\tCombine input records=0\n",
      "\t\tCombine output records=0\n",
      "\t\tReduce input groups=2\n",
      "\t\tReduce shuffle bytes=420\n",
      "\t\tReduce input records=30\n",
      "\t\tReduce output records=0\n",
      "\t\tSpilled Records=60\n",
      "\t\tShuffled Maps =15\n",
      "\t\tFailed Shuffles=0\n",
      "\t\tMerged Map outputs=15\n",
      "\t\tGC time elapsed (ms)=896\n",
      "\t\tCPU time spent (ms)=6360\n",
      "\t\tPhysical memory (bytes) snapshot=4641394688\n",
      "\t\tVirtual memory (bytes) snapshot=41103048704\n",
      "\t\tTotal committed heap usage (bytes)=3841982464\n",
      "\t\tPeak Map Physical memory (bytes)=316018688\n",
      "\t\tPeak Map Virtual memory (bytes)=2569334784\n",
      "\t\tPeak Reduce Physical memory (bytes)=229990400\n",
      "\t\tPeak Reduce Virtual memory (bytes)=2576482304\n",
      "\tShuffle Errors\n",
      "\t\tBAD_ID=0\n",
      "\t\tCONNECTION=0\n",
      "\t\tIO_ERROR=0\n",
      "\t\tWRONG_LENGTH=0\n",
      "\t\tWRONG_MAP=0\n",
      "\t\tWRONG_REDUCE=0\n",
      "\tFile Input Format Counters \n",
      "\t\tBytes Read=1770\n",
      "\tFile Output Format Counters \n",
      "\t\tBytes Written=97\n",
      "Job Finished in 41.491 seconds\n",
      "Estimated value of Pi is 3.14162962962962962963\n"
     ]
    }
   ],
   "source": [
    "!hadoop jar /opt/hadoop/share/hadoop/mapreduce/hadoop-mapreduce-examples-3.3.6.jar pi 15 1800"
   ]
  },
  {
   "cell_type": "code",
   "execution_count": null,
   "id": "1e7befb2-617a-4bf6-a1ee-5f98a1ce1f7e",
   "metadata": {},
   "outputs": [],
   "source": []
  }
 ],
 "metadata": {
  "kernelspec": {
   "display_name": "Python 3 (ipykernel)",
   "language": "python",
   "name": "python3"
  },
  "language_info": {
   "codemirror_mode": {
    "name": "ipython",
    "version": 3
   },
   "file_extension": ".py",
   "mimetype": "text/x-python",
   "name": "python",
   "nbconvert_exporter": "python",
   "pygments_lexer": "ipython3",
   "version": "3.10.12"
  }
 },
 "nbformat": 4,
 "nbformat_minor": 5
}
