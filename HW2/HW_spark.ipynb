{
 "cells": [
  {
   "cell_type": "code",
   "execution_count": 1,
   "id": "fa5d2217-e992-4ce9-9d19-b4acca9bde38",
   "metadata": {},
   "outputs": [
    {
     "name": "stdout",
     "output_type": "stream",
     "text": [
      "Safe mode is OFF\n"
     ]
    }
   ],
   "source": [
    "!hdfs dfsadmin -safemode leave"
   ]
  },
  {
   "cell_type": "code",
   "execution_count": 2,
   "id": "500bd101-f75c-4c2a-8b3f-ebad4c81a431",
   "metadata": {},
   "outputs": [
    {
     "name": "stdout",
     "output_type": "stream",
     "text": [
      "Collecting pyspark\n",
      "  Downloading pyspark-3.5.0.tar.gz (316.9 MB)\n",
      "\u001B[2K     \u001B[90m━━━━━━━━━━━━━━━━━━━━━━━━━━━━━━━━━━━━━━━\u001B[0m \u001B[32m316.9/316.9 MB\u001B[0m \u001B[31m5.2 MB/s\u001B[0m eta \u001B[36m0:00:00\u001B[0m00:01\u001B[0m00:01\u001B[0m\n",
      "\u001B[?25h  Preparing metadata (setup.py) ... \u001B[?25ldone\n",
      "\u001B[?25hCollecting pyarrow\n",
      "  Downloading pyarrow-14.0.1-cp310-cp310-manylinux_2_28_x86_64.whl (38.0 MB)\n",
      "\u001B[2K     \u001B[90m━━━━━━━━━━━━━━━━━━━━━━━━━━━━━━━━━━━━━━━━\u001B[0m \u001B[32m38.0/38.0 MB\u001B[0m \u001B[31m27.7 MB/s\u001B[0m eta \u001B[36m0:00:00\u001B[0m00:01\u001B[0m00:01\u001B[0m\n",
      "\u001B[?25hCollecting py4j==0.10.9.7\n",
      "  Downloading py4j-0.10.9.7-py2.py3-none-any.whl (200 kB)\n",
      "\u001B[2K     \u001B[90m━━━━━━━━━━━━━━━━━━━━━━━━━━━━━━━━━━━━━━\u001B[0m \u001B[32m200.5/200.5 KB\u001B[0m \u001B[31m32.8 MB/s\u001B[0m eta \u001B[36m0:00:00\u001B[0m\n",
      "\u001B[?25hCollecting numpy>=1.16.6\n",
      "  Downloading numpy-1.26.2-cp310-cp310-manylinux_2_17_x86_64.manylinux2014_x86_64.whl (18.2 MB)\n",
      "\u001B[2K     \u001B[90m━━━━━━━━━━━━━━━━━━━━━━━━━━━━━━━━━━━━━━━━\u001B[0m \u001B[32m18.2/18.2 MB\u001B[0m \u001B[31m27.6 MB/s\u001B[0m eta \u001B[36m0:00:00\u001B[0m00:01\u001B[0m00:01\u001B[0m\n",
      "\u001B[?25hBuilding wheels for collected packages: pyspark\n",
      "  Building wheel for pyspark (setup.py) ... \u001B[?25ldone\n",
      "\u001B[?25h  Created wheel for pyspark: filename=pyspark-3.5.0-py2.py3-none-any.whl size=317425364 sha256=4ecaca9027620caa7b812765f87561b83b6430bebaefa0184990525da02ade1f\n",
      "  Stored in directory: /root/.cache/pip/wheels/41/4e/10/c2cf2467f71c678cfc8a6b9ac9241e5e44a01940da8fbb17fc\n",
      "Successfully built pyspark\n",
      "Installing collected packages: py4j, pyspark, numpy, pyarrow\n",
      "Successfully installed numpy-1.26.2 py4j-0.10.9.7 pyarrow-14.0.1 pyspark-3.5.0\n",
      "\u001B[33mWARNING: Running pip as the 'root' user can result in broken permissions and conflicting behaviour with the system package manager. It is recommended to use a virtual environment instead: https://pip.pypa.io/warnings/venv\u001B[0m\u001B[33m\n",
      "\u001B[0m"
     ]
    }
   ],
   "source": [
    "!pip install pyspark pyarrow"
   ]
  },
  {
   "cell_type": "code",
   "execution_count": 3,
   "id": "4afe8993-9a7f-428b-bfee-1b0f55bd7577",
   "metadata": {},
   "outputs": [],
   "source": [
    "import pyspark\n",
    "from pyspark import SparkContext, SparkConf"
   ]
  },
  {
   "cell_type": "code",
   "execution_count": 4,
   "id": "bb090d43-d5f7-4824-9537-5f437eb2d10d",
   "metadata": {},
   "outputs": [],
   "source": [
    "import os\n",
    "os.environ['CLASSPATH'] = '/opt/hadoop/etc/hadoop:/opt/hadoop/share/hadoop/common/lib/re2j-1.1.jar:/opt/hadoop/share/hadoop/common/lib/netty-transport-rxtx-4.1.89.Final.jar:/opt/hadoop/share/hadoop/common/lib/jackson-annotations-2.12.7.jar:/opt/hadoop/share/hadoop/common/lib/jetty-webapp-9.4.51.v20230217.jar:/opt/hadoop/share/hadoop/common/lib/netty-transport-native-kqueue-4.1.89.Final-osx-aarch_64.jar:/opt/hadoop/share/hadoop/common/lib/netty-common-4.1.89.Final.jar:/opt/hadoop/share/hadoop/common/lib/netty-resolver-dns-native-macos-4.1.89.Final-osx-x86_64.jar:/opt/hadoop/share/hadoop/common/lib/jcip-annotations-1.0-1.jar:/opt/hadoop/share/hadoop/common/lib/protobuf-java-2.5.0.jar:/opt/hadoop/share/hadoop/common/lib/slf4j-reload4j-1.7.36.jar:/opt/hadoop/share/hadoop/common/lib/commons-daemon-1.0.13.jar:/opt/hadoop/share/hadoop/common/lib/guava-27.0-jre.jar:/opt/hadoop/share/hadoop/common/lib/jetty-util-ajax-9.4.51.v20230217.jar:/opt/hadoop/share/hadoop/common/lib/zookeeper-jute-3.6.3.jar:/opt/hadoop/share/hadoop/common/lib/jersey-core-1.19.4.jar:/opt/hadoop/share/hadoop/common/lib/kerb-identity-1.0.1.jar:/opt/hadoop/share/hadoop/common/lib/jetty-servlet-9.4.51.v20230217.jar:/opt/hadoop/share/hadoop/common/lib/metrics-core-3.2.4.jar:/opt/hadoop/share/hadoop/common/lib/jersey-servlet-1.19.4.jar:/opt/hadoop/share/hadoop/common/lib/jackson-core-2.12.7.jar:/opt/hadoop/share/hadoop/common/lib/avro-1.7.7.jar:/opt/hadoop/share/hadoop/common/lib/commons-logging-1.1.3.jar:/opt/hadoop/share/hadoop/common/lib/javax.servlet-api-3.1.0.jar:/opt/hadoop/share/hadoop/common/lib/jetty-security-9.4.51.v20230217.jar:/opt/hadoop/share/hadoop/common/lib/jersey-json-1.20.jar:/opt/hadoop/share/hadoop/common/lib/netty-handler-4.1.89.Final.jar:/opt/hadoop/share/hadoop/common/lib/hadoop-annotations-3.3.6.jar:/opt/hadoop/share/hadoop/common/lib/animal-sniffer-annotations-1.17.jar:/opt/hadoop/share/hadoop/common/lib/kerby-xdr-1.0.1.jar:/opt/hadoop/share/hadoop/common/lib/curator-framework-5.2.0.jar:/opt/hadoop/share/hadoop/common/lib/netty-transport-sctp-4.1.89.Final.jar:/opt/hadoop/share/hadoop/common/lib/commons-codec-1.15.jar:/opt/hadoop/share/hadoop/common/lib/netty-codec-http-4.1.89.Final.jar:/opt/hadoop/share/hadoop/common/lib/netty-codec-memcache-4.1.89.Final.jar:/opt/hadoop/share/hadoop/common/lib/commons-configuration2-2.8.0.jar:/opt/hadoop/share/hadoop/common/lib/kerby-pkix-1.0.1.jar:/opt/hadoop/share/hadoop/common/lib/httpcore-4.4.13.jar:/opt/hadoop/share/hadoop/common/lib/kerb-core-1.0.1.jar:/opt/hadoop/share/hadoop/common/lib/jersey-server-1.19.4.jar:/opt/hadoop/share/hadoop/common/lib/kerb-admin-1.0.1.jar:/opt/hadoop/share/hadoop/common/lib/netty-transport-classes-epoll-4.1.89.Final.jar:/opt/hadoop/share/hadoop/common/lib/netty-transport-native-epoll-4.1.89.Final-linux-x86_64.jar:/opt/hadoop/share/hadoop/common/lib/jsr305-3.0.2.jar:/opt/hadoop/share/hadoop/common/lib/hadoop-shaded-guava-1.1.1.jar:/opt/hadoop/share/hadoop/common/lib/jetty-server-9.4.51.v20230217.jar:/opt/hadoop/share/hadoop/common/lib/netty-codec-stomp-4.1.89.Final.jar:/opt/hadoop/share/hadoop/common/lib/audience-annotations-0.5.0.jar:/opt/hadoop/share/hadoop/common/lib/netty-transport-udt-4.1.89.Final.jar:/opt/hadoop/share/hadoop/common/lib/jackson-databind-2.12.7.1.jar:/opt/hadoop/share/hadoop/common/lib/kerby-config-1.0.1.jar:/opt/hadoop/share/hadoop/common/lib/failureaccess-1.0.jar:/opt/hadoop/share/hadoop/common/lib/netty-transport-native-unix-common-4.1.89.Final.jar:/opt/hadoop/share/hadoop/common/lib/netty-codec-redis-4.1.89.Final.jar:/opt/hadoop/share/hadoop/common/lib/kerb-simplekdc-1.0.1.jar:/opt/hadoop/share/hadoop/common/lib/gson-2.9.0.jar:/opt/hadoop/share/hadoop/common/lib/kerb-crypto-1.0.1.jar:/opt/hadoop/share/hadoop/common/lib/jaxb-impl-2.2.3-1.jar:/opt/hadoop/share/hadoop/common/lib/zookeeper-3.6.3.jar:/opt/hadoop/share/hadoop/common/lib/netty-resolver-dns-classes-macos-4.1.89.Final.jar:/opt/hadoop/share/hadoop/common/lib/commons-lang3-3.12.0.jar:/opt/hadoop/share/hadoop/common/lib/httpclient-4.5.13.jar:/opt/hadoop/share/hadoop/common/lib/token-provider-1.0.1.jar:/opt/hadoop/share/hadoop/common/lib/netty-codec-xml-4.1.89.Final.jar:/opt/hadoop/share/hadoop/common/lib/netty-transport-classes-kqueue-4.1.89.Final.jar:/opt/hadoop/share/hadoop/common/lib/jackson-core-asl-1.9.13.jar:/opt/hadoop/share/hadoop/common/lib/netty-resolver-dns-native-macos-4.1.89.Final-osx-aarch_64.jar:/opt/hadoop/share/hadoop/common/lib/commons-math3-3.1.1.jar:/opt/hadoop/share/hadoop/common/lib/commons-cli-1.2.jar:/opt/hadoop/share/hadoop/common/lib/commons-collections-3.2.2.jar:/opt/hadoop/share/hadoop/common/lib/reload4j-1.2.22.jar:/opt/hadoop/share/hadoop/common/lib/commons-compress-1.21.jar:/opt/hadoop/share/hadoop/common/lib/jsr311-api-1.1.1.jar:/opt/hadoop/share/hadoop/common/lib/jakarta.activation-api-1.2.1.jar:/opt/hadoop/share/hadoop/common/lib/jetty-util-9.4.51.v20230217.jar:/opt/hadoop/share/hadoop/common/lib/jackson-mapper-asl-1.9.13.jar:/opt/hadoop/share/hadoop/common/lib/commons-io-2.8.0.jar:/opt/hadoop/share/hadoop/common/lib/kerby-asn1-1.0.1.jar:/opt/hadoop/share/hadoop/common/lib/kerb-common-1.0.1.jar:/opt/hadoop/share/hadoop/common/lib/jetty-http-9.4.51.v20230217.jar:/opt/hadoop/share/hadoop/common/lib/jsch-0.1.55.jar:/opt/hadoop/share/hadoop/common/lib/commons-net-3.9.0.jar:/opt/hadoop/share/hadoop/common/lib/netty-codec-dns-4.1.89.Final.jar:/opt/hadoop/share/hadoop/common/lib/snappy-java-1.1.8.2.jar:/opt/hadoop/share/hadoop/common/lib/stax2-api-4.2.1.jar:/opt/hadoop/share/hadoop/common/lib/jul-to-slf4j-1.7.36.jar:/opt/hadoop/share/hadoop/common/lib/dnsjava-2.1.7.jar:/opt/hadoop/share/hadoop/common/lib/paranamer-2.3.jar:/opt/hadoop/share/hadoop/common/lib/woodstox-core-5.4.0.jar:/opt/hadoop/share/hadoop/common/lib/commons-text-1.10.0.jar:/opt/hadoop/share/hadoop/common/lib/kerby-util-1.0.1.jar:/opt/hadoop/share/hadoop/common/lib/netty-buffer-4.1.89.Final.jar:/opt/hadoop/share/hadoop/common/lib/curator-client-5.2.0.jar:/opt/hadoop/share/hadoop/common/lib/slf4j-api-1.7.36.jar:/opt/hadoop/share/hadoop/common/lib/netty-transport-4.1.89.Final.jar:/opt/hadoop/share/hadoop/common/lib/netty-handler-ssl-ocsp-4.1.89.Final.jar:/opt/hadoop/share/hadoop/common/lib/netty-codec-4.1.89.Final.jar:/opt/hadoop/share/hadoop/common/lib/netty-codec-socks-4.1.89.Final.jar:/opt/hadoop/share/hadoop/common/lib/netty-all-4.1.89.Final.jar:/opt/hadoop/share/hadoop/common/lib/jettison-1.5.4.jar:/opt/hadoop/share/hadoop/common/lib/hadoop-auth-3.3.6.jar:/opt/hadoop/share/hadoop/common/lib/jetty-io-9.4.51.v20230217.jar:/opt/hadoop/share/hadoop/common/lib/commons-beanutils-1.9.4.jar:/opt/hadoop/share/hadoop/common/lib/netty-codec-mqtt-4.1.89.Final.jar:/opt/hadoop/share/hadoop/common/lib/netty-handler-proxy-4.1.89.Final.jar:/opt/hadoop/share/hadoop/common/lib/kerb-client-1.0.1.jar:/opt/hadoop/share/hadoop/common/lib/checker-qual-2.5.2.jar:/opt/hadoop/share/hadoop/common/lib/hadoop-shaded-protobuf_3_7-1.1.1.jar:/opt/hadoop/share/hadoop/common/lib/listenablefuture-9999.0-empty-to-avoid-conflict-with-guava.jar:/opt/hadoop/share/hadoop/common/lib/jetty-xml-9.4.51.v20230217.jar:/opt/hadoop/share/hadoop/common/lib/jaxb-api-2.2.11.jar:/opt/hadoop/share/hadoop/common/lib/jsp-api-2.1.jar:/opt/hadoop/share/hadoop/common/lib/netty-transport-native-epoll-4.1.89.Final-linux-aarch_64.jar:/opt/hadoop/share/hadoop/common/lib/netty-codec-http2-4.1.89.Final.jar:/opt/hadoop/share/hadoop/common/lib/kerb-server-1.0.1.jar:/opt/hadoop/share/hadoop/common/lib/netty-transport-native-kqueue-4.1.89.Final-osx-x86_64.jar:/opt/hadoop/share/hadoop/common/lib/netty-codec-haproxy-4.1.89.Final.jar:/opt/hadoop/share/hadoop/common/lib/nimbus-jose-jwt-9.8.1.jar:/opt/hadoop/share/hadoop/common/lib/curator-recipes-5.2.0.jar:/opt/hadoop/share/hadoop/common/lib/kerb-util-1.0.1.jar:/opt/hadoop/share/hadoop/common/lib/j2objc-annotations-1.1.jar:/opt/hadoop/share/hadoop/common/lib/netty-resolver-dns-4.1.89.Final.jar:/opt/hadoop/share/hadoop/common/lib/netty-codec-smtp-4.1.89.Final.jar:/opt/hadoop/share/hadoop/common/lib/netty-resolver-4.1.89.Final.jar:/opt/hadoop/share/hadoop/common/hadoop-nfs-3.3.6.jar:/opt/hadoop/share/hadoop/common/hadoop-common-3.3.6-tests.jar:/opt/hadoop/share/hadoop/common/hadoop-kms-3.3.6.jar:/opt/hadoop/share/hadoop/common/hadoop-common-3.3.6.jar:/opt/hadoop/share/hadoop/common/hadoop-registry-3.3.6.jar:/opt/hadoop/share/hadoop/hdfs:/opt/hadoop/share/hadoop/hdfs/lib/re2j-1.1.jar:/opt/hadoop/share/hadoop/hdfs/lib/netty-transport-rxtx-4.1.89.Final.jar:/opt/hadoop/share/hadoop/hdfs/lib/jackson-annotations-2.12.7.jar:/opt/hadoop/share/hadoop/hdfs/lib/jetty-webapp-9.4.51.v20230217.jar:/opt/hadoop/share/hadoop/hdfs/lib/netty-transport-native-kqueue-4.1.89.Final-osx-aarch_64.jar:/opt/hadoop/share/hadoop/hdfs/lib/netty-common-4.1.89.Final.jar:/opt/hadoop/share/hadoop/hdfs/lib/netty-resolver-dns-native-macos-4.1.89.Final-osx-x86_64.jar:/opt/hadoop/share/hadoop/hdfs/lib/jcip-annotations-1.0-1.jar:/opt/hadoop/share/hadoop/hdfs/lib/protobuf-java-2.5.0.jar:/opt/hadoop/share/hadoop/hdfs/lib/commons-daemon-1.0.13.jar:/opt/hadoop/share/hadoop/hdfs/lib/guava-27.0-jre.jar:/opt/hadoop/share/hadoop/hdfs/lib/jetty-util-ajax-9.4.51.v20230217.jar:/opt/hadoop/share/hadoop/hdfs/lib/kotlin-stdlib-1.4.10.jar:/opt/hadoop/share/hadoop/hdfs/lib/zookeeper-jute-3.6.3.jar:/opt/hadoop/share/hadoop/hdfs/lib/jersey-core-1.19.4.jar:/opt/hadoop/share/hadoop/hdfs/lib/kerb-identity-1.0.1.jar:/opt/hadoop/share/hadoop/hdfs/lib/jetty-servlet-9.4.51.v20230217.jar:/opt/hadoop/share/hadoop/hdfs/lib/metrics-core-3.2.4.jar:/opt/hadoop/share/hadoop/hdfs/lib/jersey-servlet-1.19.4.jar:/opt/hadoop/share/hadoop/hdfs/lib/jackson-core-2.12.7.jar:/opt/hadoop/share/hadoop/hdfs/lib/avro-1.7.7.jar:/opt/hadoop/share/hadoop/hdfs/lib/commons-logging-1.1.3.jar:/opt/hadoop/share/hadoop/hdfs/lib/javax.servlet-api-3.1.0.jar:/opt/hadoop/share/hadoop/hdfs/lib/jetty-security-9.4.51.v20230217.jar:/opt/hadoop/share/hadoop/hdfs/lib/jersey-json-1.20.jar:/opt/hadoop/share/hadoop/hdfs/lib/netty-handler-4.1.89.Final.jar:/opt/hadoop/share/hadoop/hdfs/lib/hadoop-annotations-3.3.6.jar:/opt/hadoop/share/hadoop/hdfs/lib/netty-3.10.6.Final.jar:/opt/hadoop/share/hadoop/hdfs/lib/animal-sniffer-annotations-1.17.jar:/opt/hadoop/share/hadoop/hdfs/lib/kotlin-stdlib-common-1.4.10.jar:/opt/hadoop/share/hadoop/hdfs/lib/kerby-xdr-1.0.1.jar:/opt/hadoop/share/hadoop/hdfs/lib/curator-framework-5.2.0.jar:/opt/hadoop/share/hadoop/hdfs/lib/netty-transport-sctp-4.1.89.Final.jar:/opt/hadoop/share/hadoop/hdfs/lib/commons-codec-1.15.jar:/opt/hadoop/share/hadoop/hdfs/lib/netty-codec-http-4.1.89.Final.jar:/opt/hadoop/share/hadoop/hdfs/lib/netty-codec-memcache-4.1.89.Final.jar:/opt/hadoop/share/hadoop/hdfs/lib/commons-configuration2-2.8.0.jar:/opt/hadoop/share/hadoop/hdfs/lib/kerby-pkix-1.0.1.jar:/opt/hadoop/share/hadoop/hdfs/lib/httpcore-4.4.13.jar:/opt/hadoop/share/hadoop/hdfs/lib/kerb-core-1.0.1.jar:/opt/hadoop/share/hadoop/hdfs/lib/jersey-server-1.19.4.jar:/opt/hadoop/share/hadoop/hdfs/lib/kerb-admin-1.0.1.jar:/opt/hadoop/share/hadoop/hdfs/lib/netty-transport-classes-epoll-4.1.89.Final.jar:/opt/hadoop/share/hadoop/hdfs/lib/netty-transport-native-epoll-4.1.89.Final-linux-x86_64.jar:/opt/hadoop/share/hadoop/hdfs/lib/jsr305-3.0.2.jar:/opt/hadoop/share/hadoop/hdfs/lib/hadoop-shaded-guava-1.1.1.jar:/opt/hadoop/share/hadoop/hdfs/lib/jetty-server-9.4.51.v20230217.jar:/opt/hadoop/share/hadoop/hdfs/lib/netty-codec-stomp-4.1.89.Final.jar:/opt/hadoop/share/hadoop/hdfs/lib/audience-annotations-0.5.0.jar:/opt/hadoop/share/hadoop/hdfs/lib/netty-transport-udt-4.1.89.Final.jar:/opt/hadoop/share/hadoop/hdfs/lib/jackson-databind-2.12.7.1.jar:/opt/hadoop/share/hadoop/hdfs/lib/kerby-config-1.0.1.jar:/opt/hadoop/share/hadoop/hdfs/lib/failureaccess-1.0.jar:/opt/hadoop/share/hadoop/hdfs/lib/netty-transport-native-unix-common-4.1.89.Final.jar:/opt/hadoop/share/hadoop/hdfs/lib/netty-codec-redis-4.1.89.Final.jar:/opt/hadoop/share/hadoop/hdfs/lib/kerb-simplekdc-1.0.1.jar:/opt/hadoop/share/hadoop/hdfs/lib/gson-2.9.0.jar:/opt/hadoop/share/hadoop/hdfs/lib/kerb-crypto-1.0.1.jar:/opt/hadoop/share/hadoop/hdfs/lib/jaxb-impl-2.2.3-1.jar:/opt/hadoop/share/hadoop/hdfs/lib/zookeeper-3.6.3.jar:/opt/hadoop/share/hadoop/hdfs/lib/netty-resolver-dns-classes-macos-4.1.89.Final.jar:/opt/hadoop/share/hadoop/hdfs/lib/commons-lang3-3.12.0.jar:/opt/hadoop/share/hadoop/hdfs/lib/httpclient-4.5.13.jar:/opt/hadoop/share/hadoop/hdfs/lib/token-provider-1.0.1.jar:/opt/hadoop/share/hadoop/hdfs/lib/netty-codec-xml-4.1.89.Final.jar:/opt/hadoop/share/hadoop/hdfs/lib/netty-transport-classes-kqueue-4.1.89.Final.jar:/opt/hadoop/share/hadoop/hdfs/lib/jackson-core-asl-1.9.13.jar:/opt/hadoop/share/hadoop/hdfs/lib/netty-resolver-dns-native-macos-4.1.89.Final-osx-aarch_64.jar:/opt/hadoop/share/hadoop/hdfs/lib/commons-math3-3.1.1.jar:/opt/hadoop/share/hadoop/hdfs/lib/commons-cli-1.2.jar:/opt/hadoop/share/hadoop/hdfs/lib/commons-collections-3.2.2.jar:/opt/hadoop/share/hadoop/hdfs/lib/reload4j-1.2.22.jar:/opt/hadoop/share/hadoop/hdfs/lib/commons-compress-1.21.jar:/opt/hadoop/share/hadoop/hdfs/lib/jsr311-api-1.1.1.jar:/opt/hadoop/share/hadoop/hdfs/lib/jakarta.activation-api-1.2.1.jar:/opt/hadoop/share/hadoop/hdfs/lib/jetty-util-9.4.51.v20230217.jar:/opt/hadoop/share/hadoop/hdfs/lib/jackson-mapper-asl-1.9.13.jar:/opt/hadoop/share/hadoop/hdfs/lib/commons-io-2.8.0.jar:/opt/hadoop/share/hadoop/hdfs/lib/leveldbjni-all-1.8.jar:/opt/hadoop/share/hadoop/hdfs/lib/kerby-asn1-1.0.1.jar:/opt/hadoop/share/hadoop/hdfs/lib/kerb-common-1.0.1.jar:/opt/hadoop/share/hadoop/hdfs/lib/jetty-http-9.4.51.v20230217.jar:/opt/hadoop/share/hadoop/hdfs/lib/jsch-0.1.55.jar:/opt/hadoop/share/hadoop/hdfs/lib/commons-net-3.9.0.jar:/opt/hadoop/share/hadoop/hdfs/lib/json-simple-1.1.1.jar:/opt/hadoop/share/hadoop/hdfs/lib/netty-codec-dns-4.1.89.Final.jar:/opt/hadoop/share/hadoop/hdfs/lib/snappy-java-1.1.8.2.jar:/opt/hadoop/share/hadoop/hdfs/lib/stax2-api-4.2.1.jar:/opt/hadoop/share/hadoop/hdfs/lib/okio-2.8.0.jar:/opt/hadoop/share/hadoop/hdfs/lib/dnsjava-2.1.7.jar:/opt/hadoop/share/hadoop/hdfs/lib/paranamer-2.3.jar:/opt/hadoop/share/hadoop/hdfs/lib/woodstox-core-5.4.0.jar:/opt/hadoop/share/hadoop/hdfs/lib/commons-text-1.10.0.jar:/opt/hadoop/share/hadoop/hdfs/lib/kerby-util-1.0.1.jar:/opt/hadoop/share/hadoop/hdfs/lib/netty-buffer-4.1.89.Final.jar:/opt/hadoop/share/hadoop/hdfs/lib/curator-client-5.2.0.jar:/opt/hadoop/share/hadoop/hdfs/lib/netty-transport-4.1.89.Final.jar:/opt/hadoop/share/hadoop/hdfs/lib/netty-handler-ssl-ocsp-4.1.89.Final.jar:/opt/hadoop/share/hadoop/hdfs/lib/netty-codec-4.1.89.Final.jar:/opt/hadoop/share/hadoop/hdfs/lib/netty-codec-socks-4.1.89.Final.jar:/opt/hadoop/share/hadoop/hdfs/lib/netty-all-4.1.89.Final.jar:/opt/hadoop/share/hadoop/hdfs/lib/jettison-1.5.4.jar:/opt/hadoop/share/hadoop/hdfs/lib/hadoop-auth-3.3.6.jar:/opt/hadoop/share/hadoop/hdfs/lib/jetty-io-9.4.51.v20230217.jar:/opt/hadoop/share/hadoop/hdfs/lib/commons-beanutils-1.9.4.jar:/opt/hadoop/share/hadoop/hdfs/lib/netty-codec-mqtt-4.1.89.Final.jar:/opt/hadoop/share/hadoop/hdfs/lib/netty-handler-proxy-4.1.89.Final.jar:/opt/hadoop/share/hadoop/hdfs/lib/kerb-client-1.0.1.jar:/opt/hadoop/share/hadoop/hdfs/lib/checker-qual-2.5.2.jar:/opt/hadoop/share/hadoop/hdfs/lib/hadoop-shaded-protobuf_3_7-1.1.1.jar:/opt/hadoop/share/hadoop/hdfs/lib/listenablefuture-9999.0-empty-to-avoid-conflict-with-guava.jar:/opt/hadoop/share/hadoop/hdfs/lib/jetty-xml-9.4.51.v20230217.jar:/opt/hadoop/share/hadoop/hdfs/lib/jaxb-api-2.2.11.jar:/opt/hadoop/share/hadoop/hdfs/lib/okhttp-4.9.3.jar:/opt/hadoop/share/hadoop/hdfs/lib/netty-transport-native-epoll-4.1.89.Final-linux-aarch_64.jar:/opt/hadoop/share/hadoop/hdfs/lib/netty-codec-http2-4.1.89.Final.jar:/opt/hadoop/share/hadoop/hdfs/lib/kerb-server-1.0.1.jar:/opt/hadoop/share/hadoop/hdfs/lib/netty-transport-native-kqueue-4.1.89.Final-osx-x86_64.jar:/opt/hadoop/share/hadoop/hdfs/lib/HikariCP-java7-2.4.12.jar:/opt/hadoop/share/hadoop/hdfs/lib/netty-codec-haproxy-4.1.89.Final.jar:/opt/hadoop/share/hadoop/hdfs/lib/nimbus-jose-jwt-9.8.1.jar:/opt/hadoop/share/hadoop/hdfs/lib/curator-recipes-5.2.0.jar:/opt/hadoop/share/hadoop/hdfs/lib/kerb-util-1.0.1.jar:/opt/hadoop/share/hadoop/hdfs/lib/j2objc-annotations-1.1.jar:/opt/hadoop/share/hadoop/hdfs/lib/netty-resolver-dns-4.1.89.Final.jar:/opt/hadoop/share/hadoop/hdfs/lib/netty-codec-smtp-4.1.89.Final.jar:/opt/hadoop/share/hadoop/hdfs/lib/netty-resolver-4.1.89.Final.jar:/opt/hadoop/share/hadoop/hdfs/hadoop-hdfs-nfs-3.3.6.jar:/opt/hadoop/share/hadoop/hdfs/hadoop-hdfs-rbf-3.3.6-tests.jar:/opt/hadoop/share/hadoop/hdfs/hadoop-hdfs-httpfs-3.3.6.jar:/opt/hadoop/share/hadoop/hdfs/hadoop-hdfs-native-client-3.3.6.jar:/opt/hadoop/share/hadoop/hdfs/hadoop-hdfs-client-3.3.6-tests.jar:/opt/hadoop/share/hadoop/hdfs/hadoop-hdfs-3.3.6.jar:/opt/hadoop/share/hadoop/hdfs/hadoop-hdfs-native-client-3.3.6-tests.jar:/opt/hadoop/share/hadoop/hdfs/hadoop-hdfs-rbf-3.3.6.jar:/opt/hadoop/share/hadoop/hdfs/hadoop-hdfs-3.3.6-tests.jar:/opt/hadoop/share/hadoop/hdfs/hadoop-hdfs-client-3.3.6.jar:/opt/hadoop/share/hadoop/mapreduce/hadoop-mapreduce-client-jobclient-3.3.6-tests.jar:/opt/hadoop/share/hadoop/mapreduce/hadoop-mapreduce-client-hs-plugins-3.3.6.jar:/opt/hadoop/share/hadoop/mapreduce/hadoop-mapreduce-client-jobclient-3.3.6.jar:/opt/hadoop/share/hadoop/mapreduce/hadoop-mapreduce-client-uploader-3.3.6.jar:/opt/hadoop/share/hadoop/mapreduce/hadoop-mapreduce-examples-3.3.6.jar:/opt/hadoop/share/hadoop/mapreduce/hadoop-mapreduce-client-common-3.3.6.jar:/opt/hadoop/share/hadoop/mapreduce/hadoop-mapreduce-client-core-3.3.6.jar:/opt/hadoop/share/hadoop/mapreduce/hadoop-mapreduce-client-app-3.3.6.jar:/opt/hadoop/share/hadoop/mapreduce/hadoop-mapreduce-client-nativetask-3.3.6.jar:/opt/hadoop/share/hadoop/mapreduce/hadoop-mapreduce-client-hs-3.3.6.jar:/opt/hadoop/share/hadoop/mapreduce/hadoop-mapreduce-client-shuffle-3.3.6.jar:/opt/hadoop/share/hadoop/yarn:/opt/hadoop/share/hadoop/yarn/lib/snakeyaml-2.0.jar:/opt/hadoop/share/hadoop/yarn/lib/bcprov-jdk15on-1.68.jar:/opt/hadoop/share/hadoop/yarn/lib/asm-commons-9.4.jar:/opt/hadoop/share/hadoop/yarn/lib/java-util-1.9.0.jar:/opt/hadoop/share/hadoop/yarn/lib/jackson-module-jaxb-annotations-2.12.7.jar:/opt/hadoop/share/hadoop/yarn/lib/websocket-common-9.4.51.v20230217.jar:/opt/hadoop/share/hadoop/yarn/lib/ehcache-3.3.1.jar:/opt/hadoop/share/hadoop/yarn/lib/jline-3.9.0.jar:/opt/hadoop/share/hadoop/yarn/lib/websocket-client-9.4.51.v20230217.jar:/opt/hadoop/share/hadoop/yarn/lib/jetty-annotations-9.4.51.v20230217.jar:/opt/hadoop/share/hadoop/yarn/lib/javax-websocket-client-impl-9.4.51.v20230217.jar:/opt/hadoop/share/hadoop/yarn/lib/json-io-2.5.1.jar:/opt/hadoop/share/hadoop/yarn/lib/javax.inject-1.jar:/opt/hadoop/share/hadoop/yarn/lib/jackson-jaxrs-base-2.12.7.jar:/opt/hadoop/share/hadoop/yarn/lib/jackson-jaxrs-json-provider-2.12.7.jar:/opt/hadoop/share/hadoop/yarn/lib/websocket-server-9.4.51.v20230217.jar:/opt/hadoop/share/hadoop/yarn/lib/jakarta.xml.bind-api-2.3.2.jar:/opt/hadoop/share/hadoop/yarn/lib/websocket-servlet-9.4.51.v20230217.jar:/opt/hadoop/share/hadoop/yarn/lib/jersey-client-1.19.4.jar:/opt/hadoop/share/hadoop/yarn/lib/objenesis-2.6.jar:/opt/hadoop/share/hadoop/yarn/lib/websocket-api-9.4.51.v20230217.jar:/opt/hadoop/share/hadoop/yarn/lib/aopalliance-1.0.jar:/opt/hadoop/share/hadoop/yarn/lib/bcpkix-jdk15on-1.68.jar:/opt/hadoop/share/hadoop/yarn/lib/jetty-jndi-9.4.51.v20230217.jar:/opt/hadoop/share/hadoop/yarn/lib/guice-servlet-4.0.jar:/opt/hadoop/share/hadoop/yarn/lib/javax-websocket-server-impl-9.4.51.v20230217.jar:/opt/hadoop/share/hadoop/yarn/lib/jersey-guice-1.19.4.jar:/opt/hadoop/share/hadoop/yarn/lib/geronimo-jcache_1.0_spec-1.0-alpha-1.jar:/opt/hadoop/share/hadoop/yarn/lib/javax.websocket-api-1.0.jar:/opt/hadoop/share/hadoop/yarn/lib/swagger-annotations-1.5.4.jar:/opt/hadoop/share/hadoop/yarn/lib/fst-2.50.jar:/opt/hadoop/share/hadoop/yarn/lib/jna-5.2.0.jar:/opt/hadoop/share/hadoop/yarn/lib/jetty-client-9.4.51.v20230217.jar:/opt/hadoop/share/hadoop/yarn/lib/jetty-plus-9.4.51.v20230217.jar:/opt/hadoop/share/hadoop/yarn/lib/javax.websocket-client-api-1.0.jar:/opt/hadoop/share/hadoop/yarn/lib/guice-4.0.jar:/opt/hadoop/share/hadoop/yarn/lib/mssql-jdbc-6.2.1.jre7.jar:/opt/hadoop/share/hadoop/yarn/lib/asm-tree-9.4.jar:/opt/hadoop/share/hadoop/yarn/hadoop-yarn-server-web-proxy-3.3.6.jar:/opt/hadoop/share/hadoop/yarn/hadoop-yarn-services-api-3.3.6.jar:/opt/hadoop/share/hadoop/yarn/hadoop-yarn-server-tests-3.3.6.jar:/opt/hadoop/share/hadoop/yarn/hadoop-yarn-server-timeline-pluginstorage-3.3.6.jar:/opt/hadoop/share/hadoop/yarn/hadoop-yarn-applications-unmanaged-am-launcher-3.3.6.jar:/opt/hadoop/share/hadoop/yarn/hadoop-yarn-applications-mawo-core-3.3.6.jar:/opt/hadoop/share/hadoop/yarn/hadoop-yarn-api-3.3.6.jar:/opt/hadoop/share/hadoop/yarn/hadoop-yarn-server-common-3.3.6.jar:/opt/hadoop/share/hadoop/yarn/hadoop-yarn-registry-3.3.6.jar:/opt/hadoop/share/hadoop/yarn/hadoop-yarn-server-router-3.3.6.jar:/opt/hadoop/share/hadoop/yarn/hadoop-yarn-server-applicationhistoryservice-3.3.6.jar:/opt/hadoop/share/hadoop/yarn/hadoop-yarn-client-3.3.6.jar:/opt/hadoop/share/hadoop/yarn/hadoop-yarn-server-nodemanager-3.3.6.jar:/opt/hadoop/share/hadoop/yarn/hadoop-yarn-common-3.3.6.jar:/opt/hadoop/share/hadoop/yarn/hadoop-yarn-server-resourcemanager-3.3.6.jar:/opt/hadoop/share/hadoop/yarn/hadoop-yarn-services-core-3.3.6.jar:/opt/hadoop/share/hadoop/yarn/hadoop-yarn-applications-distributedshell-3.3.6.jar:/opt/hadoop/share/hadoop/yarn/hadoop-yarn-server-sharedcachemanager-3.3.6.jar'"
   ]
  },
  {
   "cell_type": "code",
   "execution_count": 5,
   "id": "9381ff9d-8e27-4751-a0f2-f6493da44d02",
   "metadata": {},
   "outputs": [],
   "source": [
    "conf = SparkConf().set(\"spark.executor.instances\", \"2\").set(\"spark.executor.cores\", \"2\").set(\"spark.executor.memory\", \"1g\")"
   ]
  },
  {
   "cell_type": "code",
   "execution_count": 6,
   "id": "a9a87945-c7e3-4422-bcf8-56a5f0310e1f",
   "metadata": {},
   "outputs": [
    {
     "name": "stderr",
     "output_type": "stream",
     "text": [
      "Setting default log level to \"WARN\".\n",
      "To adjust logging level use sc.setLogLevel(newLevel). For SparkR, use setLogLevel(newLevel).\n",
      "23/12/10 16:03:05 WARN Client: Neither spark.yarn.jars nor spark.yarn.archive is set, falling back to uploading libraries under SPARK_HOME.\n"
     ]
    }
   ],
   "source": [
    "sc = SparkContext(appName=\"borisov_spark\", master=\"yarn\")"
   ]
  },
  {
   "cell_type": "markdown",
   "id": "9fc0bba9-924d-4f01-8ed5-54c3ef1796de",
   "metadata": {},
   "source": [
    "## Перенесем данные в hdfs"
   ]
  },
  {
   "cell_type": "code",
   "execution_count": 7,
   "id": "49e6cca5-23dd-4a1a-ae6b-02a0322ae902",
   "metadata": {},
   "outputs": [],
   "source": [
    "from pyarrow import fs\n",
    "hdfs = fs.HadoopFileSystem(\"namenode\", 8020)"
   ]
  },
  {
   "cell_type": "code",
   "execution_count": 8,
   "id": "c777b851-5c8c-4dd1-a1c1-8b67d19bfa36",
   "metadata": {},
   "outputs": [],
   "source": [
    "!hdfs dfs -put ml-latest-small"
   ]
  },
  {
   "cell_type": "markdown",
   "id": "a2b4e1a8-bef8-43b3-8a88-238b11b66a7f",
   "metadata": {},
   "source": [
    "# Task 1"
   ]
  },
  {
   "cell_type": "code",
   "execution_count": 9,
   "id": "24376a66-6055-404c-901f-127bf026cbb2",
   "metadata": {},
   "outputs": [],
   "source": [
    "rdd_ratings = sc.textFile(\"ml-latest-small/ratings.csv\")"
   ]
  },
  {
   "cell_type": "code",
   "execution_count": 10,
   "id": "9bd38a99-d3d8-4c8d-8b9b-9ffb05ef5551",
   "metadata": {},
   "outputs": [],
   "source": [
    "rdd_ratings = rdd_ratings.filter(lambda x: 'userId' not in x)"
   ]
  },
  {
   "cell_type": "code",
   "execution_count": 11,
   "id": "a33a792d-5f4a-4f13-bb94-7be6afe77bb9",
   "metadata": {},
   "outputs": [
    {
     "name": "stderr",
     "output_type": "stream",
     "text": [
      "                                                                                \r"
     ]
    },
    {
     "data": {
      "text/plain": [
       "100836"
      ]
     },
     "execution_count": 11,
     "metadata": {},
     "output_type": "execute_result"
    }
   ],
   "source": [
    "rdd_ratings.count()"
   ]
  },
  {
   "cell_type": "markdown",
   "id": "56ca4a97-84da-45de-8efd-2e1996fde226",
   "metadata": {},
   "source": [
    " **Стейджей выполнено:** 1  \n",
    " **Тасок выполнено:** 2\n",
    "\n",
    "![Скриншот отработанной джобы для рейтингов](./pics/rating_job1.png)"
   ]
  },
  {
   "cell_type": "code",
   "execution_count": 12,
   "id": "d9533b1d-b5e4-4da3-a9c9-74fa65c9ea5f",
   "metadata": {},
   "outputs": [],
   "source": [
    "rdd_tags = sc.textFile(\"ml-latest-small/tags.csv\")"
   ]
  },
  {
   "cell_type": "code",
   "execution_count": 13,
   "id": "add1d82e-a6ef-41da-bbc5-8fba8a25a53d",
   "metadata": {},
   "outputs": [],
   "source": [
    "rdd_tags = rdd_tags.filter(lambda x: 'userId' not in x)"
   ]
  },
  {
   "cell_type": "code",
   "execution_count": 14,
   "id": "351e3b62-fe00-4a45-abc7-e8d6fba403f3",
   "metadata": {},
   "outputs": [
    {
     "data": {
      "text/plain": [
       "3683"
      ]
     },
     "execution_count": 14,
     "metadata": {},
     "output_type": "execute_result"
    }
   ],
   "source": [
    "rdd_tags.count()"
   ]
  },
  {
   "cell_type": "markdown",
   "id": "849b8b09-8131-49f9-94ed-38e0333101f0",
   "metadata": {},
   "source": [
    " **Стейджей выполнено:** 1  \n",
    " **Тасок выполнено:** 2\n",
    "\n",
    "![Скриншот отработанной джобы для рейтингов](./pics/tags_job1.png)"
   ]
  },
  {
   "cell_type": "markdown",
   "id": "b5697e88-eac4-463a-a266-d1422920b2f0",
   "metadata": {},
   "source": [
    "# Task 2 "
   ]
  },
  {
   "cell_type": "markdown",
   "id": "2fcd763e-adb0-4e2f-a698-1a20e4f578c9",
   "metadata": {},
   "source": [
    "### Посчитать количество уникальных фильмов и уникальных юзеров в таблице “ratings”"
   ]
  },
  {
   "cell_type": "code",
   "execution_count": 15,
   "id": "3fa6ed49-1a72-4832-a300-d92356060740",
   "metadata": {},
   "outputs": [
    {
     "data": {
      "text/plain": [
       "['1,1,4.0,964982703',\n",
       " '1,3,4.0,964981247',\n",
       " '1,6,4.0,964982224',\n",
       " '1,47,5.0,964983815',\n",
       " '1,50,5.0,964982931']"
      ]
     },
     "execution_count": 15,
     "metadata": {},
     "output_type": "execute_result"
    }
   ],
   "source": [
    "rdd_ratings.take(5)"
   ]
  },
  {
   "cell_type": "code",
   "execution_count": 16,
   "id": "68921b4a-5e83-47da-82ca-9b46403540f3",
   "metadata": {},
   "outputs": [],
   "source": [
    "rdd_ratings_splitted = rdd_ratings.map(lambda x: x.split(\",\"))"
   ]
  },
  {
   "cell_type": "code",
   "execution_count": 17,
   "id": "6092bf34-3b78-42b7-b68a-b79af87a8033",
   "metadata": {},
   "outputs": [
    {
     "data": {
      "text/plain": [
       "[['1', '1', '4.0', '964982703'],\n",
       " ['1', '3', '4.0', '964981247'],\n",
       " ['1', '6', '4.0', '964982224'],\n",
       " ['1', '47', '5.0', '964983815'],\n",
       " ['1', '50', '5.0', '964982931']]"
      ]
     },
     "execution_count": 17,
     "metadata": {},
     "output_type": "execute_result"
    }
   ],
   "source": [
    "rdd_ratings_splitted.take(5)"
   ]
  },
  {
   "cell_type": "code",
   "execution_count": 18,
   "id": "439d76d1-46ef-4e3d-bb93-59aa66cbfb69",
   "metadata": {},
   "outputs": [
    {
     "data": {
      "text/plain": [
       "PythonRDD[8] at RDD at PythonRDD.scala:53"
      ]
     },
     "execution_count": 18,
     "metadata": {},
     "output_type": "execute_result"
    }
   ],
   "source": [
    "rdd_ratings_splitted.cache()"
   ]
  },
  {
   "cell_type": "code",
   "execution_count": 19,
   "id": "c47ccd07-13b9-4714-8108-7ef3c3c7d1e7",
   "metadata": {},
   "outputs": [],
   "source": [
    "rdd_movieid = rdd_ratings_splitted.map(lambda x: x[1])"
   ]
  },
  {
   "cell_type": "code",
   "execution_count": 20,
   "id": "063ab4d5-f71d-4a59-a34c-68e81214b20e",
   "metadata": {},
   "outputs": [],
   "source": [
    "rdd_unique_movieid = rdd_movieid.groupBy(lambda x: x).map(lambda x: (x[0], len(x[1])))"
   ]
  },
  {
   "cell_type": "code",
   "execution_count": 21,
   "id": "77b02a06-bea7-4a75-9978-3c8316031dad",
   "metadata": {},
   "outputs": [
    {
     "name": "stderr",
     "output_type": "stream",
     "text": [
      "                                                                                \r"
     ]
    },
    {
     "data": {
      "text/plain": [
       "9724"
      ]
     },
     "execution_count": 21,
     "metadata": {},
     "output_type": "execute_result"
    }
   ],
   "source": [
    "rdd_unique_movieid.count()"
   ]
  },
  {
   "cell_type": "markdown",
   "id": "14b3d350-57cf-401e-bc00-eb9e7056731a",
   "metadata": {},
   "source": [
    "![Скриншот отработанной джобы для рейтингов](./pics/number_of_movies_job.png)"
   ]
  },
  {
   "cell_type": "markdown",
   "id": "1d15ac83-9883-4372-97ca-d594d791f973",
   "metadata": {},
   "source": [
    "### Посчитать, сколько было поставлено оценок >= 4.0"
   ]
  },
  {
   "cell_type": "code",
   "execution_count": 22,
   "id": "77d59ed7-efce-452b-b057-d89c0343517e",
   "metadata": {},
   "outputs": [],
   "source": [
    "rdd_ratings_filtered_4_0 = rdd_ratings_splitted.filter(lambda x: float(x[2]) >= 4.0)"
   ]
  },
  {
   "cell_type": "code",
   "execution_count": 23,
   "id": "ec1aedd4-6cef-4f7b-9f0b-279ec365b130",
   "metadata": {},
   "outputs": [
    {
     "data": {
      "text/plain": [
       "48580"
      ]
     },
     "execution_count": 23,
     "metadata": {},
     "output_type": "execute_result"
    }
   ],
   "source": [
    "rdd_ratings_filtered_4_0.count()"
   ]
  },
  {
   "cell_type": "markdown",
   "id": "fd010bcf-1c6f-4ae5-8680-1054220bf71c",
   "metadata": {},
   "source": [
    "![Скриншот отработанной джобы для рейтингов](./pics/number_of_raiting_4_job.png)"
   ]
  },
  {
   "cell_type": "markdown",
   "id": "386307e4-940b-4e2b-a4dd-647d11318604",
   "metadata": {},
   "source": [
    "### Вывести топ-100 фильмов с самым высоким рейтингом"
   ]
  },
  {
   "cell_type": "code",
   "execution_count": 24,
   "id": "579a10a6-84af-4fc7-8603-1d1bb44739e8",
   "metadata": {},
   "outputs": [],
   "source": [
    "rdd_top100_movies = rdd_ratings_splitted.sortBy(lambda x: x[2], ascending=False).map(lambda x: (x[1], x[2])).take(100)"
   ]
  },
  {
   "cell_type": "code",
   "execution_count": 25,
   "id": "f8f2bba7-de5c-4c7b-b157-8376a8114663",
   "metadata": {
    "scrolled": true
   },
   "outputs": [
    {
     "data": {
      "text/plain": [
       "[('47', '5.0'),\n",
       " ('50', '5.0'),\n",
       " ('101', '5.0'),\n",
       " ('151', '5.0'),\n",
       " ('157', '5.0'),\n",
       " ('163', '5.0'),\n",
       " ('216', '5.0'),\n",
       " ('231', '5.0'),\n",
       " ('260', '5.0'),\n",
       " ('333', '5.0'),\n",
       " ('362', '5.0'),\n",
       " ('457', '5.0'),\n",
       " ('527', '5.0'),\n",
       " ('553', '5.0'),\n",
       " ('596', '5.0'),\n",
       " ('608', '5.0'),\n",
       " ('661', '5.0'),\n",
       " ('919', '5.0'),\n",
       " ('923', '5.0'),\n",
       " ('940', '5.0'),\n",
       " ('954', '5.0'),\n",
       " ('1023', '5.0'),\n",
       " ('1024', '5.0'),\n",
       " ('1025', '5.0'),\n",
       " ('1029', '5.0'),\n",
       " ('1031', '5.0'),\n",
       " ('1032', '5.0'),\n",
       " ('1049', '5.0'),\n",
       " ('1073', '5.0'),\n",
       " ('1080', '5.0'),\n",
       " ('1089', '5.0'),\n",
       " ('1092', '5.0'),\n",
       " ('1097', '5.0'),\n",
       " ('1136', '5.0'),\n",
       " ('1196', '5.0'),\n",
       " ('1197', '5.0'),\n",
       " ('1198', '5.0'),\n",
       " ('1206', '5.0'),\n",
       " ('1210', '5.0'),\n",
       " ('1213', '5.0'),\n",
       " ('1220', '5.0'),\n",
       " ('1222', '5.0'),\n",
       " ('1224', '5.0'),\n",
       " ('1226', '5.0'),\n",
       " ('1240', '5.0'),\n",
       " ('1256', '5.0'),\n",
       " ('1270', '5.0'),\n",
       " ('1275', '5.0'),\n",
       " ('1278', '5.0'),\n",
       " ('1282', '5.0'),\n",
       " ('1291', '5.0'),\n",
       " ('1298', '5.0'),\n",
       " ('1517', '5.0'),\n",
       " ('1573', '5.0'),\n",
       " ('1587', '5.0'),\n",
       " ('1617', '5.0'),\n",
       " ('1625', '5.0'),\n",
       " ('1732', '5.0'),\n",
       " ('1804', '5.0'),\n",
       " ('1927', '5.0'),\n",
       " ('1954', '5.0'),\n",
       " ('2005', '5.0'),\n",
       " ('2018', '5.0'),\n",
       " ('2033', '5.0'),\n",
       " ('2048', '5.0'),\n",
       " ('2058', '5.0'),\n",
       " ('2078', '5.0'),\n",
       " ('2090', '5.0'),\n",
       " ('2094', '5.0'),\n",
       " ('2115', '5.0'),\n",
       " ('2116', '5.0'),\n",
       " ('2137', '5.0'),\n",
       " ('2139', '5.0'),\n",
       " ('2141', '5.0'),\n",
       " ('2161', '5.0'),\n",
       " ('2291', '5.0'),\n",
       " ('2329', '5.0'),\n",
       " ('2353', '5.0'),\n",
       " ('2387', '5.0'),\n",
       " ('2395', '5.0'),\n",
       " ('2427', '5.0'),\n",
       " ('2459', '5.0'),\n",
       " ('2470', '5.0'),\n",
       " ('2502', '5.0'),\n",
       " ('2529', '5.0'),\n",
       " ('2542', '5.0'),\n",
       " ('2571', '5.0'),\n",
       " ('2580', '5.0'),\n",
       " ('2596', '5.0'),\n",
       " ('2641', '5.0'),\n",
       " ('2654', '5.0'),\n",
       " ('2692', '5.0'),\n",
       " ('2700', '5.0'),\n",
       " ('2716', '5.0'),\n",
       " ('2761', '5.0'),\n",
       " ('2858', '5.0'),\n",
       " ('2872', '5.0'),\n",
       " ('2899', '5.0'),\n",
       " ('2944', '5.0'),\n",
       " ('2947', '5.0')]"
      ]
     },
     "execution_count": 25,
     "metadata": {},
     "output_type": "execute_result"
    }
   ],
   "source": [
    "rdd_top100_movies"
   ]
  },
  {
   "cell_type": "markdown",
   "id": "a87600bf-533e-4f8c-bca7-60ecef4ecd9f",
   "metadata": {},
   "source": [
    "![Скриншот отработанной джобы для рейтингов](./pics/top_100_movies_job.png)"
   ]
  },
  {
   "cell_type": "markdown",
   "id": "fb59d602-9369-49f9-8340-6796d814e7e4",
   "metadata": {},
   "source": [
    "### Посчитать разницу во времени в секундах между временем тегирования пользователя данного фильма и временем, когда пользователь поставил оценку фильму. В качестве ответа выведете среднюю дельту по времени "
   ]
  },
  {
   "cell_type": "code",
   "execution_count": 26,
   "id": "0b543581-5cb8-43aa-ad04-6d86ffcd2eb7",
   "metadata": {},
   "outputs": [],
   "source": [
    "rdd_tags_splitted = rdd_tags.map(lambda x: x.split(\",\"))"
   ]
  },
  {
   "cell_type": "code",
   "execution_count": 27,
   "id": "a7f7b100-51ff-48fa-82d0-d70611b8a9c4",
   "metadata": {},
   "outputs": [
    {
     "data": {
      "text/plain": [
       "PythonRDD[22] at RDD at PythonRDD.scala:53"
      ]
     },
     "execution_count": 27,
     "metadata": {},
     "output_type": "execute_result"
    }
   ],
   "source": [
    "rdd_tags_splitted.cache()"
   ]
  },
  {
   "cell_type": "code",
   "execution_count": 28,
   "id": "e15a66f1-a30d-4fe7-b5ee-fe9b23cca15f",
   "metadata": {},
   "outputs": [
    {
     "data": {
      "text/plain": [
       "[['2', '60756', 'funny', '1445714994'],\n",
       " ['2', '60756', 'Highly quotable', '1445714996'],\n",
       " ['2', '60756', 'will ferrell', '1445714992'],\n",
       " ['2', '89774', 'Boxing story', '1445715207'],\n",
       " ['2', '89774', 'MMA', '1445715200']]"
      ]
     },
     "execution_count": 28,
     "metadata": {},
     "output_type": "execute_result"
    }
   ],
   "source": [
    "rdd_tags_splitted.take(5)"
   ]
  },
  {
   "cell_type": "code",
   "execution_count": 29,
   "id": "4b96790d-46c2-428f-ab9b-d3c710ac59ed",
   "metadata": {},
   "outputs": [],
   "source": [
    "from datetime import datetime\n",
    "\n",
    "rdd_ratings_time = rdd_ratings_splitted.map(lambda x: ((x[0], x[1]), int(x[3])))\n",
    "rdd_tags_time = rdd_tags_splitted.map(lambda x: ((x[0], x[1]), int(x[3])))"
   ]
  },
  {
   "cell_type": "code",
   "execution_count": 30,
   "id": "a5857c52-f153-4434-a07c-d0ec3fc2b060",
   "metadata": {},
   "outputs": [
    {
     "data": {
      "text/plain": [
       "[(('1', '1'), 964982703),\n",
       " (('1', '3'), 964981247),\n",
       " (('1', '6'), 964982224),\n",
       " (('1', '47'), 964983815),\n",
       " (('1', '50'), 964982931)]"
      ]
     },
     "execution_count": 30,
     "metadata": {},
     "output_type": "execute_result"
    }
   ],
   "source": [
    "rdd_ratings_time.take(5)"
   ]
  },
  {
   "cell_type": "code",
   "execution_count": 31,
   "id": "0dc682b4-5c71-4036-b72b-ded2e00bc15e",
   "metadata": {},
   "outputs": [
    {
     "data": {
      "text/plain": [
       "[(('2', '60756'), 1445714994),\n",
       " (('2', '60756'), 1445714996),\n",
       " (('2', '60756'), 1445714992),\n",
       " (('2', '89774'), 1445715207),\n",
       " (('2', '89774'), 1445715200)]"
      ]
     },
     "execution_count": 31,
     "metadata": {},
     "output_type": "execute_result"
    }
   ],
   "source": [
    "rdd_tags_time.take(5)"
   ]
  },
  {
   "cell_type": "code",
   "execution_count": 32,
   "id": "2e32ff6b-2e78-4dad-8fdf-75730463bbcb",
   "metadata": {},
   "outputs": [
    {
     "name": "stderr",
     "output_type": "stream",
     "text": [
      "                                                                                \r"
     ]
    },
    {
     "data": {
      "text/plain": [
       "[(('474', '4012'), (1137374767, 1046887657)),\n",
       " (('474', '4034'), (1137784729, 1081177376)),\n",
       " (('474', '4113'), (1137192025, 983031744)),\n",
       " (('474', '4189'), (1137375121, 1082256503)),\n",
       " (('474', '4189'), (1137375121, 1082256503))]"
      ]
     },
     "execution_count": 32,
     "metadata": {},
     "output_type": "execute_result"
    }
   ],
   "source": [
    "rdd_joined_data = rdd_tags_time.join(rdd_ratings_time)\n",
    "rdd_joined_data.take(5)"
   ]
  },
  {
   "cell_type": "code",
   "execution_count": 33,
   "id": "c275836c-5170-48a7-a009-da10fb9c8e3b",
   "metadata": {},
   "outputs": [
    {
     "data": {
      "text/plain": [
       "[('474', '4012', 90487110),\n",
       " ('474', '4034', 56607353),\n",
       " ('474', '4113', 154160281),\n",
       " ('474', '4189', 55118618),\n",
       " ('474', '4189', 55118618),\n",
       " ('474', '4218', -28337978),\n",
       " ('474', '4221', 148794759),\n",
       " ('474', '4232', 135275837),\n",
       " ('474', '4306', 56028220),\n",
       " ('474', '4370', 84184449)]"
      ]
     },
     "execution_count": 33,
     "metadata": {},
     "output_type": "execute_result"
    }
   ],
   "source": [
    "rdd_time_delta = rdd_joined_data.map(lambda x: (x[0][0], x[0][1], x[1][0] - x[1][1]))\n",
    "rdd_time_delta.take(10)"
   ]
  },
  {
   "cell_type": "code",
   "execution_count": 34,
   "id": "4501a8cd-eeeb-44a2-942b-465cacf0791b",
   "metadata": {},
   "outputs": [],
   "source": [
    "average_value = rdd_time_delta.map(lambda x: x[2]).mean()"
   ]
  },
  {
   "cell_type": "code",
   "execution_count": 35,
   "id": "b5dd5ba3-2dc5-4e7a-b3e6-01f77c8c4fb0",
   "metadata": {},
   "outputs": [
    {
     "name": "stdout",
     "output_type": "stream",
     "text": [
      "Средняя дельта по времени: 26243727.37\n"
     ]
    }
   ],
   "source": [
    "print(f\"Средняя дельта по времени: {average_value:.2f}\")"
   ]
  },
  {
   "cell_type": "markdown",
   "id": "af4d362b-a5f8-4317-9fcb-83a17d2e98c7",
   "metadata": {},
   "source": [
    "![Скриншот отработанной джобы для рейтингов](./pics/mean_time_delta_job.png)"
   ]
  },
  {
   "cell_type": "markdown",
   "id": "d6dfb469-f967-405e-a8b2-013eede22c6c",
   "metadata": {},
   "source": [
    "### Посчитать среднюю оценку от каждого пользователя, в качестве ответа выведете среднее от всех усредненных оценок всех пользователей\n"
   ]
  },
  {
   "cell_type": "code",
   "execution_count": 36,
   "id": "8e583ffd-928e-44b5-be07-328ab7c7474a",
   "metadata": {},
   "outputs": [],
   "source": [
    "rdd_ratings_by_user = rdd_ratings_splitted.map(lambda x: (x[0], float(x[2])))"
   ]
  },
  {
   "cell_type": "code",
   "execution_count": 37,
   "id": "74af38f9-8c02-4b50-b28a-926e4d6344e9",
   "metadata": {},
   "outputs": [
    {
     "data": {
      "text/plain": [
       "[('1', 4.0), ('1', 4.0), ('1', 4.0), ('1', 5.0), ('1', 5.0)]"
      ]
     },
     "execution_count": 37,
     "metadata": {},
     "output_type": "execute_result"
    }
   ],
   "source": [
    "rdd_ratings_by_user.take(5)"
   ]
  },
  {
   "cell_type": "code",
   "execution_count": 38,
   "id": "bfaebf4e-c404-4e2f-a8e9-568624b3e7d5",
   "metadata": {},
   "outputs": [],
   "source": [
    "rdd_ratings_by_user = rdd_ratings_by_user.groupByKey().mapValues(lambda values: sum(values) / len(values))"
   ]
  },
  {
   "cell_type": "code",
   "execution_count": 39,
   "id": "f84cccb6-b72d-4151-8123-3063ad72215a",
   "metadata": {},
   "outputs": [
    {
     "data": {
      "text/plain": [
       "[('1', 4.366379310344827),\n",
       " ('4', 3.5555555555555554),\n",
       " ('8', 3.574468085106383),\n",
       " ('9', 3.260869565217391),\n",
       " ('10', 3.2785714285714285)]"
      ]
     },
     "execution_count": 39,
     "metadata": {},
     "output_type": "execute_result"
    }
   ],
   "source": [
    "rdd_ratings_by_user.take(5)"
   ]
  },
  {
   "cell_type": "code",
   "execution_count": 40,
   "id": "701b4bea-b781-4f38-88fb-a5a1e115a0bf",
   "metadata": {},
   "outputs": [
    {
     "name": "stdout",
     "output_type": "stream",
     "text": [
      "Усредненная оценка средних оценок пользователей: 3.66\n"
     ]
    }
   ],
   "source": [
    "mean_rate = rdd_ratings_by_user.map(lambda x: x[1]).mean()\n",
    "print(f'Усредненная оценка средних оценок пользователей: {mean_rate:.2f}')"
   ]
  },
  {
   "cell_type": "markdown",
   "id": "c1155e1d-c5f3-4bce-9a14-7d193676a1ad",
   "metadata": {},
   "source": [
    "![Скриншот отработанной джобы для рейтингов](./pics/mean_of_mean.png)"
   ]
  },
  {
   "cell_type": "markdown",
   "id": "703215b7-f891-459d-86d4-abfe58197e94",
   "metadata": {},
   "source": [
    "## Task 3"
   ]
  },
  {
   "cell_type": "code",
   "execution_count": 54,
   "id": "a14880af-5f73-485b-bb04-2cffd84e64fc",
   "metadata": {},
   "outputs": [
    {
     "name": "stdout",
     "output_type": "stream",
     "text": [
      "Collecting scikit-learn\n",
      "  Downloading scikit_learn-1.3.2-cp310-cp310-manylinux_2_17_x86_64.manylinux2014_x86_64.whl (10.8 MB)\n",
      "\u001B[2K     \u001B[90m━━━━━━━━━━━━━━━━━━━━━━━━━━━━━━━━━━━━━━━━\u001B[0m \u001B[32m10.8/10.8 MB\u001B[0m \u001B[31m23.8 MB/s\u001B[0m eta \u001B[36m0:00:00\u001B[0m00:01\u001B[0m00:01\u001B[0m\n",
      "\u001B[?25hRequirement already satisfied: numpy in /usr/local/lib/python3.10/dist-packages (1.26.2)\n",
      "Collecting joblib>=1.1.1\n",
      "  Downloading joblib-1.3.2-py3-none-any.whl (302 kB)\n",
      "\u001B[2K     \u001B[90m━━━━━━━━━━━━━━━━━━━━━━━━━━━━━━━━━━━━━━\u001B[0m \u001B[32m302.2/302.2 KB\u001B[0m \u001B[31m30.8 MB/s\u001B[0m eta \u001B[36m0:00:00\u001B[0m\n",
      "\u001B[?25hCollecting threadpoolctl>=2.0.0\n",
      "  Downloading threadpoolctl-3.2.0-py3-none-any.whl (15 kB)\n",
      "Collecting scipy>=1.5.0\n",
      "  Downloading scipy-1.11.4-cp310-cp310-manylinux_2_17_x86_64.manylinux2014_x86_64.whl (36.4 MB)\n",
      "\u001B[2K     \u001B[90m━━━━━━━━━━━━━━━━━━━━━━━━━━━━━━━━━━━━━━━━\u001B[0m \u001B[32m36.4/36.4 MB\u001B[0m \u001B[31m18.4 MB/s\u001B[0m eta \u001B[36m0:00:00\u001B[0m00:01\u001B[0m00:01\u001B[0m\n",
      "\u001B[?25hInstalling collected packages: threadpoolctl, scipy, joblib, scikit-learn\n",
      "Successfully installed joblib-1.3.2 scikit-learn-1.3.2 scipy-1.11.4 threadpoolctl-3.2.0\n",
      "\u001B[33mWARNING: Running pip as the 'root' user can result in broken permissions and conflicting behaviour with the system package manager. It is recommended to use a virtual environment instead: https://pip.pypa.io/warnings/venv\u001B[0m\u001B[33m\n",
      "\u001B[0m"
     ]
    }
   ],
   "source": [
    "!pip install scikit-learn numpy"
   ]
  },
  {
   "cell_type": "code",
   "execution_count": 106,
   "id": "f18d277f-5376-475c-9ac4-bd9d77ea9242",
   "metadata": {},
   "outputs": [],
   "source": [
    "from pyspark.sql import SparkSession\n",
    "from pyspark.sql.functions import udf\n",
    "from pyspark.sql.types import DoubleType, FloatType\n",
    "\n",
    "from sklearn.feature_extraction.text import TfidfVectorizer\n",
    "from sklearn.linear_model import SGDRegressor\n",
    "from sklearn.metrics import mean_squared_error"
   ]
  },
  {
   "cell_type": "code",
   "execution_count": 57,
   "id": "80bcb1b1-c139-479e-a35d-b9dc6d7e9f7f",
   "metadata": {},
   "outputs": [],
   "source": [
    "spark = SparkSession.builder.appName(\"borisov_spark\").getOrCreate()"
   ]
  },
  {
   "cell_type": "code",
   "execution_count": 58,
   "id": "f0eaab8c-3a94-42d0-b37f-9f3be2534a14",
   "metadata": {},
   "outputs": [],
   "source": [
    "ratings_df = spark.createDataFrame(rdd_ratings_splitted, ['userid', 'movieid', 'rating', 'timestamp'])\n",
    "tags_df = spark.createDataFrame(rdd_tags_splitted, ['userid', 'movieid', 'tag', 'timestamp'])"
   ]
  },
  {
   "cell_type": "code",
   "execution_count": 92,
   "id": "612d1668-6c56-4ac4-9e4d-4a6fe6a3ac6d",
   "metadata": {},
   "outputs": [],
   "source": [
    "tags_pandas = tags_df.toPandas()\n",
    "ratings_pandas = ratings_df.toPandas()"
   ]
  },
  {
   "cell_type": "code",
   "execution_count": 127,
   "id": "3381698b-764e-4406-8e2d-2344ebe27b3c",
   "metadata": {},
   "outputs": [],
   "source": [
    "data = tags_pandas.merge(ratings_pandas, on=['userid', 'movieid'], how='left')"
   ]
  },
  {
   "cell_type": "code",
   "execution_count": 129,
   "id": "b7a07128-61ae-4cdc-a689-a848ff80a422",
   "metadata": {},
   "outputs": [
    {
     "data": {
      "text/html": [
       "<div>\n",
       "<style scoped>\n",
       "    .dataframe tbody tr th:only-of-type {\n",
       "        vertical-align: middle;\n",
       "    }\n",
       "\n",
       "    .dataframe tbody tr th {\n",
       "        vertical-align: top;\n",
       "    }\n",
       "\n",
       "    .dataframe thead th {\n",
       "        text-align: right;\n",
       "    }\n",
       "</style>\n",
       "<table border=\"1\" class=\"dataframe\">\n",
       "  <thead>\n",
       "    <tr style=\"text-align: right;\">\n",
       "      <th></th>\n",
       "      <th>userid</th>\n",
       "      <th>movieid</th>\n",
       "      <th>tag</th>\n",
       "      <th>rating</th>\n",
       "    </tr>\n",
       "  </thead>\n",
       "  <tbody>\n",
       "    <tr>\n",
       "      <th>0</th>\n",
       "      <td>2</td>\n",
       "      <td>60756</td>\n",
       "      <td>funny</td>\n",
       "      <td>5.0</td>\n",
       "    </tr>\n",
       "    <tr>\n",
       "      <th>1</th>\n",
       "      <td>2</td>\n",
       "      <td>60756</td>\n",
       "      <td>Highly quotable</td>\n",
       "      <td>5.0</td>\n",
       "    </tr>\n",
       "    <tr>\n",
       "      <th>2</th>\n",
       "      <td>2</td>\n",
       "      <td>60756</td>\n",
       "      <td>will ferrell</td>\n",
       "      <td>5.0</td>\n",
       "    </tr>\n",
       "    <tr>\n",
       "      <th>3</th>\n",
       "      <td>2</td>\n",
       "      <td>89774</td>\n",
       "      <td>Boxing story</td>\n",
       "      <td>5.0</td>\n",
       "    </tr>\n",
       "    <tr>\n",
       "      <th>4</th>\n",
       "      <td>2</td>\n",
       "      <td>89774</td>\n",
       "      <td>MMA</td>\n",
       "      <td>5.0</td>\n",
       "    </tr>\n",
       "    <tr>\n",
       "      <th>...</th>\n",
       "      <td>...</td>\n",
       "      <td>...</td>\n",
       "      <td>...</td>\n",
       "      <td>...</td>\n",
       "    </tr>\n",
       "    <tr>\n",
       "      <th>3678</th>\n",
       "      <td>606</td>\n",
       "      <td>7382</td>\n",
       "      <td>for katie</td>\n",
       "      <td>4.5</td>\n",
       "    </tr>\n",
       "    <tr>\n",
       "      <th>3679</th>\n",
       "      <td>606</td>\n",
       "      <td>7936</td>\n",
       "      <td>austere</td>\n",
       "      <td>NaN</td>\n",
       "    </tr>\n",
       "    <tr>\n",
       "      <th>3680</th>\n",
       "      <td>610</td>\n",
       "      <td>3265</td>\n",
       "      <td>gun fu</td>\n",
       "      <td>5.0</td>\n",
       "    </tr>\n",
       "    <tr>\n",
       "      <th>3681</th>\n",
       "      <td>610</td>\n",
       "      <td>3265</td>\n",
       "      <td>heroic bloodshed</td>\n",
       "      <td>5.0</td>\n",
       "    </tr>\n",
       "    <tr>\n",
       "      <th>3682</th>\n",
       "      <td>610</td>\n",
       "      <td>168248</td>\n",
       "      <td>Heroic Bloodshed</td>\n",
       "      <td>5.0</td>\n",
       "    </tr>\n",
       "  </tbody>\n",
       "</table>\n",
       "<p>3683 rows × 4 columns</p>\n",
       "</div>"
      ],
      "text/plain": [
       "     userid movieid               tag rating\n",
       "0         2   60756             funny    5.0\n",
       "1         2   60756   Highly quotable    5.0\n",
       "2         2   60756      will ferrell    5.0\n",
       "3         2   89774      Boxing story    5.0\n",
       "4         2   89774               MMA    5.0\n",
       "...     ...     ...               ...    ...\n",
       "3678    606    7382         for katie    4.5\n",
       "3679    606    7936           austere    NaN\n",
       "3680    610    3265            gun fu    5.0\n",
       "3681    610    3265  heroic bloodshed    5.0\n",
       "3682    610  168248  Heroic Bloodshed    5.0\n",
       "\n",
       "[3683 rows x 4 columns]"
      ]
     },
     "execution_count": 129,
     "metadata": {},
     "output_type": "execute_result"
    }
   ],
   "source": [
    "data = data[['userid', 'movieid', 'tag', 'rating']]\n",
    "data"
   ]
  },
  {
   "cell_type": "code",
   "execution_count": 130,
   "id": "62ec69b0-19b7-476e-83e7-f7d2dc0bc2da",
   "metadata": {},
   "outputs": [
    {
     "name": "stdout",
     "output_type": "stream",
     "text": [
      "<class 'pandas.core.frame.DataFrame'>\n",
      "RangeIndex: 3683 entries, 0 to 3682\n",
      "Data columns (total 4 columns):\n",
      " #   Column   Non-Null Count  Dtype \n",
      "---  ------   --------------  ----- \n",
      " 0   userid   3683 non-null   object\n",
      " 1   movieid  3683 non-null   object\n",
      " 2   tag      3683 non-null   object\n",
      " 3   rating   3476 non-null   object\n",
      "dtypes: object(4)\n",
      "memory usage: 115.2+ KB\n"
     ]
    }
   ],
   "source": [
    "data.info()"
   ]
  },
  {
   "cell_type": "code",
   "execution_count": 131,
   "id": "a7f9879e-50e5-4014-b77d-62d4d8a2dd01",
   "metadata": {},
   "outputs": [
    {
     "name": "stderr",
     "output_type": "stream",
     "text": [
      "/tmp/ipykernel_76/1368182302.py:1: SettingWithCopyWarning: \n",
      "A value is trying to be set on a copy of a slice from a DataFrame\n",
      "\n",
      "See the caveats in the documentation: https://pandas.pydata.org/pandas-docs/stable/user_guide/indexing.html#returning-a-view-versus-a-copy\n",
      "  data.dropna(inplace=True)\n"
     ]
    }
   ],
   "source": [
    "data.dropna(inplace=True)"
   ]
  },
  {
   "cell_type": "code",
   "execution_count": 132,
   "id": "708a837f-5ec9-4cfd-997a-5b11044fd71b",
   "metadata": {},
   "outputs": [
    {
     "name": "stdout",
     "output_type": "stream",
     "text": [
      "<class 'pandas.core.frame.DataFrame'>\n",
      "Index: 3476 entries, 0 to 3682\n",
      "Data columns (total 4 columns):\n",
      " #   Column   Non-Null Count  Dtype \n",
      "---  ------   --------------  ----- \n",
      " 0   userid   3476 non-null   object\n",
      " 1   movieid  3476 non-null   object\n",
      " 2   tag      3476 non-null   object\n",
      " 3   rating   3476 non-null   object\n",
      "dtypes: object(4)\n",
      "memory usage: 135.8+ KB\n"
     ]
    }
   ],
   "source": [
    "data.info()"
   ]
  },
  {
   "cell_type": "code",
   "execution_count": 133,
   "id": "e2ad846d-8b63-466a-ae8d-6ed770c0a908",
   "metadata": {},
   "outputs": [],
   "source": [
    "tfidf_vectorizer = TfidfVectorizer()\n",
    "tag_features = tfidf_vectorizer.fit_transform(data['tag'])"
   ]
  },
  {
   "cell_type": "code",
   "execution_count": 134,
   "id": "e41b0cdc-069a-4040-8e94-e5b9159b3bb3",
   "metadata": {},
   "outputs": [
    {
     "data": {
      "text/html": [
       "<style>#sk-container-id-2 {color: black;}#sk-container-id-2 pre{padding: 0;}#sk-container-id-2 div.sk-toggleable {background-color: white;}#sk-container-id-2 label.sk-toggleable__label {cursor: pointer;display: block;width: 100%;margin-bottom: 0;padding: 0.3em;box-sizing: border-box;text-align: center;}#sk-container-id-2 label.sk-toggleable__label-arrow:before {content: \"▸\";float: left;margin-right: 0.25em;color: #696969;}#sk-container-id-2 label.sk-toggleable__label-arrow:hover:before {color: black;}#sk-container-id-2 div.sk-estimator:hover label.sk-toggleable__label-arrow:before {color: black;}#sk-container-id-2 div.sk-toggleable__content {max-height: 0;max-width: 0;overflow: hidden;text-align: left;background-color: #f0f8ff;}#sk-container-id-2 div.sk-toggleable__content pre {margin: 0.2em;color: black;border-radius: 0.25em;background-color: #f0f8ff;}#sk-container-id-2 input.sk-toggleable__control:checked~div.sk-toggleable__content {max-height: 200px;max-width: 100%;overflow: auto;}#sk-container-id-2 input.sk-toggleable__control:checked~label.sk-toggleable__label-arrow:before {content: \"▾\";}#sk-container-id-2 div.sk-estimator input.sk-toggleable__control:checked~label.sk-toggleable__label {background-color: #d4ebff;}#sk-container-id-2 div.sk-label input.sk-toggleable__control:checked~label.sk-toggleable__label {background-color: #d4ebff;}#sk-container-id-2 input.sk-hidden--visually {border: 0;clip: rect(1px 1px 1px 1px);clip: rect(1px, 1px, 1px, 1px);height: 1px;margin: -1px;overflow: hidden;padding: 0;position: absolute;width: 1px;}#sk-container-id-2 div.sk-estimator {font-family: monospace;background-color: #f0f8ff;border: 1px dotted black;border-radius: 0.25em;box-sizing: border-box;margin-bottom: 0.5em;}#sk-container-id-2 div.sk-estimator:hover {background-color: #d4ebff;}#sk-container-id-2 div.sk-parallel-item::after {content: \"\";width: 100%;border-bottom: 1px solid gray;flex-grow: 1;}#sk-container-id-2 div.sk-label:hover label.sk-toggleable__label {background-color: #d4ebff;}#sk-container-id-2 div.sk-serial::before {content: \"\";position: absolute;border-left: 1px solid gray;box-sizing: border-box;top: 0;bottom: 0;left: 50%;z-index: 0;}#sk-container-id-2 div.sk-serial {display: flex;flex-direction: column;align-items: center;background-color: white;padding-right: 0.2em;padding-left: 0.2em;position: relative;}#sk-container-id-2 div.sk-item {position: relative;z-index: 1;}#sk-container-id-2 div.sk-parallel {display: flex;align-items: stretch;justify-content: center;background-color: white;position: relative;}#sk-container-id-2 div.sk-item::before, #sk-container-id-2 div.sk-parallel-item::before {content: \"\";position: absolute;border-left: 1px solid gray;box-sizing: border-box;top: 0;bottom: 0;left: 50%;z-index: -1;}#sk-container-id-2 div.sk-parallel-item {display: flex;flex-direction: column;z-index: 1;position: relative;background-color: white;}#sk-container-id-2 div.sk-parallel-item:first-child::after {align-self: flex-end;width: 50%;}#sk-container-id-2 div.sk-parallel-item:last-child::after {align-self: flex-start;width: 50%;}#sk-container-id-2 div.sk-parallel-item:only-child::after {width: 0;}#sk-container-id-2 div.sk-dashed-wrapped {border: 1px dashed gray;margin: 0 0.4em 0.5em 0.4em;box-sizing: border-box;padding-bottom: 0.4em;background-color: white;}#sk-container-id-2 div.sk-label label {font-family: monospace;font-weight: bold;display: inline-block;line-height: 1.2em;}#sk-container-id-2 div.sk-label-container {text-align: center;}#sk-container-id-2 div.sk-container {/* jupyter's `normalize.less` sets `[hidden] { display: none; }` but bootstrap.min.css set `[hidden] { display: none !important; }` so we also need the `!important` here to be able to override the default hidden behavior on the sphinx rendered scikit-learn.org. See: https://github.com/scikit-learn/scikit-learn/issues/21755 */display: inline-block !important;position: relative;}#sk-container-id-2 div.sk-text-repr-fallback {display: none;}</style><div id=\"sk-container-id-2\" class=\"sk-top-container\"><div class=\"sk-text-repr-fallback\"><pre>SGDRegressor()</pre><b>In a Jupyter environment, please rerun this cell to show the HTML representation or trust the notebook. <br />On GitHub, the HTML representation is unable to render, please try loading this page with nbviewer.org.</b></div><div class=\"sk-container\" hidden><div class=\"sk-item\"><div class=\"sk-estimator sk-toggleable\"><input class=\"sk-toggleable__control sk-hidden--visually\" id=\"sk-estimator-id-2\" type=\"checkbox\" checked><label for=\"sk-estimator-id-2\" class=\"sk-toggleable__label sk-toggleable__label-arrow\">SGDRegressor</label><div class=\"sk-toggleable__content\"><pre>SGDRegressor()</pre></div></div></div></div></div>"
      ],
      "text/plain": [
       "SGDRegressor()"
      ]
     },
     "execution_count": 134,
     "metadata": {},
     "output_type": "execute_result"
    }
   ],
   "source": [
    "sgd_regressor = SGDRegressor()\n",
    "sgd_regressor.fit(tag_features, data['rating'])"
   ]
  },
  {
   "cell_type": "code",
   "execution_count": 135,
   "id": "25f15e73-1154-49ec-8316-9626d0b64906",
   "metadata": {},
   "outputs": [],
   "source": [
    "@udf(FloatType())\n",
    "def predict_rating_udf(tag):\n",
    "    tag_feature = tfidf_vectorizer.transform([tag])\n",
    "    return float(sgd_regressor.predict(tag_feature))"
   ]
  },
  {
   "cell_type": "code",
   "execution_count": 136,
   "id": "bac11610-2354-4af5-8ff3-37a3837b02c7",
   "metadata": {},
   "outputs": [],
   "source": [
    "data_df = spark.createDataFrame(data)"
   ]
  },
  {
   "cell_type": "code",
   "execution_count": 137,
   "id": "d894edd7-81a0-4fef-bd6c-227b4a8cf863",
   "metadata": {},
   "outputs": [
    {
     "name": "stdout",
     "output_type": "stream",
     "text": [
      "+------+-------+-----------------+------+\n",
      "|userid|movieid|              tag|rating|\n",
      "+------+-------+-----------------+------+\n",
      "|     2|  60756|            funny|   5.0|\n",
      "|     2|  60756|  Highly quotable|   5.0|\n",
      "|     2|  60756|     will ferrell|   5.0|\n",
      "|     2|  89774|     Boxing story|   5.0|\n",
      "|     2|  89774|              MMA|   5.0|\n",
      "|     2|  89774|        Tom Hardy|   5.0|\n",
      "|     2| 106782|            drugs|   5.0|\n",
      "|     2| 106782|Leonardo DiCaprio|   5.0|\n",
      "|     2| 106782|  Martin Scorsese|   5.0|\n",
      "|     7|  48516|     way too long|   1.0|\n",
      "|    18|    431|        Al Pacino|   4.0|\n",
      "|    18|    431|         gangster|   4.0|\n",
      "|    18|    431|            mafia|   4.0|\n",
      "|    18|   1221|        Al Pacino|   5.0|\n",
      "|    18|   1221|            Mafia|   5.0|\n",
      "|    18|   5995|        holocaust|   4.5|\n",
      "|    18|   5995|       true story|   4.5|\n",
      "|    18|  44665|     twist ending|   4.5|\n",
      "|    18|  52604|  Anthony Hopkins|   4.5|\n",
      "|    18|  52604|  courtroom drama|   4.5|\n",
      "+------+-------+-----------------+------+\n"
     ]
    }
   ],
   "source": [
    "data_df.show()"
   ]
  },
  {
   "cell_type": "code",
   "execution_count": 138,
   "id": "1b72996c-0e88-4f93-8f78-867a68452d3b",
   "metadata": {},
   "outputs": [],
   "source": [
    "result_df = data_df.withColumn('predicted_rating', predict_rating_udf(data_df['tag']))"
   ]
  },
  {
   "cell_type": "code",
   "execution_count": 139,
   "id": "0f10d798-0d6e-424a-9001-0f5e20ba1d00",
   "metadata": {},
   "outputs": [
    {
     "name": "stderr",
     "output_type": "stream",
     "text": [
      "                                                                                \r"
     ]
    },
    {
     "name": "stdout",
     "output_type": "stream",
     "text": [
      "RMSE: 0.873417546257196\n",
      "+------+-------+-----------------+------+----------------+\n",
      "|userid|movieid|              tag|rating|predicted_rating|\n",
      "+------+-------+-----------------+------+----------------+\n",
      "|     2|  60756|            funny|   5.0|        4.366797|\n",
      "|     2|  60756|  Highly quotable|   5.0|       3.9508827|\n",
      "|     2|  60756|     will ferrell|   5.0|        4.030731|\n",
      "|     2|  89774|     Boxing story|   5.0|       3.9322457|\n",
      "|     2|  89774|              MMA|   5.0|       3.4210262|\n",
      "|     2|  89774|        Tom Hardy|   5.0|       3.8392348|\n",
      "|     2| 106782|            drugs|   5.0|       4.2868757|\n",
      "|     2| 106782|Leonardo DiCaprio|   5.0|       4.2398696|\n",
      "|     2| 106782|  Martin Scorsese|   5.0|       3.8498595|\n",
      "|     7|  48516|     way too long|   1.0|       3.4301062|\n",
      "|    18|    431|        Al Pacino|   4.0|       3.8602846|\n",
      "|    18|    431|         gangster|   4.0|       3.6328757|\n",
      "|    18|    431|            mafia|   4.0|       4.1657076|\n",
      "|    18|   1221|        Al Pacino|   5.0|       3.8602846|\n",
      "|    18|   1221|            Mafia|   5.0|       4.1657076|\n",
      "|    18|   5995|        holocaust|   4.5|       3.9779763|\n",
      "|    18|   5995|       true story|   4.5|       3.8523393|\n",
      "|    18|  44665|     twist ending|   4.5|        4.835874|\n",
      "|    18|  52604|  Anthony Hopkins|   4.5|       3.3847666|\n",
      "|    18|  52604|  courtroom drama|   4.5|       3.8522184|\n",
      "+------+-------+-----------------+------+----------------+\n",
      "only showing top 20 rows\n"
     ]
    }
   ],
   "source": [
    "predictions = result_df.select('predicted_rating').rdd.map(lambda x: float(x[0])).collect()\n",
    "true_ratings = result_df.select('rating').rdd.map(lambda x: float(x[0])).collect()\n",
    "\n",
    "rmse = mean_squared_error(true_ratings, predictions, squared=False)\n",
    "\n",
    "print(f\"RMSE: {rmse}\")\n",
    "result_df.show()"
   ]
  },
  {
   "cell_type": "markdown",
   "id": "e7ccc125-170b-48a3-bcec-6e720290d880",
   "metadata": {},
   "source": [
    "![Скриншот отработанной джобы для рейтингов](pics/tfidf_job.png)"
   ]
  }
 ],
 "metadata": {
  "kernelspec": {
   "display_name": "Python 3 (ipykernel)",
   "language": "python",
   "name": "python3"
  },
  "language_info": {
   "codemirror_mode": {
    "name": "ipython",
    "version": 3
   },
   "file_extension": ".py",
   "mimetype": "text/x-python",
   "name": "python",
   "nbconvert_exporter": "python",
   "pygments_lexer": "ipython3",
   "version": "3.10.12"
  }
 },
 "nbformat": 4,
 "nbformat_minor": 5
}
